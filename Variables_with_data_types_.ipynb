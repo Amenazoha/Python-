{
  "nbformat": 4,
  "nbformat_minor": 0,
  "metadata": {
    "colab": {
      "name": "Variables with data types .ipynb",
      "provenance": [],
      "authorship_tag": "ABX9TyMXEZt2at+q/Plld+H5uW7I",
      "include_colab_link": true
    },
    "kernelspec": {
      "name": "python3",
      "display_name": "Python 3"
    },
    "language_info": {
      "name": "python"
    }
  },
  "cells": [
    {
      "cell_type": "markdown",
      "metadata": {
        "id": "view-in-github",
        "colab_type": "text"
      },
      "source": [
        "<a href=\"https://colab.research.google.com/github/Amenazoha/Python-/blob/Main/Variables_with_data_types_.ipynb\" target=\"_parent\"><img src=\"https://colab.research.google.com/assets/colab-badge.svg\" alt=\"Open In Colab\"/></a>"
      ]
    },
    {
      "cell_type": "code",
      "metadata": {
        "id": "08nvxZg9AIpk",
        "colab": {
          "base_uri": "https://localhost:8080/"
        },
        "outputId": "1a61aa68-4209-45a2-8b9f-b004be76642b"
      },
      "source": [
        "X=int(7.5)\n",
        "Y=float(5)\n",
        "Z=str(\"Hello python\") \n",
        "B=True\n",
        "print(type(X), type(Y), type(Z), type(B))\n",
        "print(X, Y, Z, B)\n",
        "print(X+Y)\n",
        "print(X*Z)"
      ],
      "execution_count": 13,
      "outputs": [
        {
          "output_type": "stream",
          "text": [
            "<class 'int'> <class 'float'> <class 'str'> <class 'bool'>\n",
            "7 5.0 Hello python True\n",
            "12.0\n",
            "Hello pythonHello pythonHello pythonHello pythonHello pythonHello pythonHello python\n"
          ],
          "name": "stdout"
        }
      ]
    }
  ]
}