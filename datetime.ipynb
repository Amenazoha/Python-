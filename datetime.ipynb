{
  "nbformat": 4,
  "nbformat_minor": 5,
  "metadata": {
    "language_info": {
      "name": "python",
      "version": "3.7.8",
      "mimetype": "text/x-python",
      "codemirror_mode": {
        "name": "ipython",
        "version": 3
      },
      "pygments_lexer": "ipython3",
      "nbconvert_exporter": "python",
      "file_extension": ".py"
    },
    "kernelspec": {
      "name": "python3",
      "display_name": "Python 3",
      "language": "python"
    },
    "colab": {
      "name": "datetime.ipynb",
      "provenance": [],
      "include_colab_link": true
    }
  },
  "cells": [
    {
      "cell_type": "markdown",
      "metadata": {
        "id": "view-in-github",
        "colab_type": "text"
      },
      "source": [
        "<a href=\"https://colab.research.google.com/github/Amenazoha/Python-/blob/Main/datetime.ipynb\" target=\"_parent\"><img src=\"https://colab.research.google.com/assets/colab-badge.svg\" alt=\"Open In Colab\"/></a>"
      ]
    },
    {
      "cell_type": "code",
      "metadata": {
        "trusted": true,
        "colab": {
          "base_uri": "https://localhost:8080/"
        },
        "id": "KnsbqIdvQ7N9",
        "outputId": "ca997b70-ba94-415a-e2d0-fe2bb9fb7b0e"
      },
      "source": [
        "import datetime \n",
        "y=datetime.datetime.now()\n",
        "print(y.strftime(\"%y-%m-%d\"))"
      ],
      "id": "KnsbqIdvQ7N9",
      "execution_count": 4,
      "outputs": [
        {
          "output_type": "stream",
          "text": [
            "21-04-29\n"
          ],
          "name": "stdout"
        }
      ]
    },
    {
      "cell_type": "code",
      "metadata": {
        "id": "UET94-FdQ7OE"
      },
      "source": [
        ""
      ],
      "id": "UET94-FdQ7OE",
      "execution_count": null,
      "outputs": []
    }
  ]
}