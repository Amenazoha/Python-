{
  "nbformat": 4,
  "nbformat_minor": 0,
  "metadata": {
    "colab": {
      "name": "Functions in python .ipynb",
      "provenance": [],
      "authorship_tag": "ABX9TyOMt9ndi+geEpA8UmNdqgXc",
      "include_colab_link": true
    },
    "kernelspec": {
      "name": "python3",
      "display_name": "Python 3"
    },
    "language_info": {
      "name": "python"
    }
  },
  "cells": [
    {
      "cell_type": "markdown",
      "metadata": {
        "id": "view-in-github",
        "colab_type": "text"
      },
      "source": [
        "<a href=\"https://colab.research.google.com/github/Amenazoha/Python-/blob/Main/Functions_in_python_.ipynb\" target=\"_parent\"><img src=\"https://colab.research.google.com/assets/colab-badge.svg\" alt=\"Open In Colab\"/></a>"
      ]
    },
    {
      "cell_type": "code",
      "metadata": {
        "colab": {
          "base_uri": "https://localhost:8080/"
        },
        "id": "f8o8EY8YjITc",
        "outputId": "405ca38f-454b-4e19-a256-4381317d595d"
      },
      "source": [
        "def full_name():\n",
        "    first_name=\"James\" \n",
        "    last_name =\"  bond\" \n",
        "    name=first_name +  last_name\n",
        "    return name\n",
        "print(full_name())"
      ],
      "execution_count": null,
      "outputs": [
        {
          "output_type": "stream",
          "text": [
            "James  bond\n"
          ],
          "name": "stdout"
        }
      ]
    }
  ]
}